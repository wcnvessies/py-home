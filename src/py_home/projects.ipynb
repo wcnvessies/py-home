{
 "cells": [
  {
   "cell_type": "code",
   "execution_count": null,
   "metadata": {},
   "outputs": [],
   "source": [
    "import os\n",
    "import zipfile\n",
    "\n",
    "import branca\n",
    "import folium\n",
    "import geopandas as gpd\n",
    "import numpy as np\n",
    "import pandas as pd\n",
    "from fastkml import kml\n",
    "from general_fun import *"
   ]
  },
  {
   "cell_type": "code",
   "execution_count": null,
   "metadata": {},
   "outputs": [],
   "source": [
    "database_use = False"
   ]
  },
  {
   "cell_type": "code",
   "execution_count": null,
   "metadata": {},
   "outputs": [],
   "source": [
    "if database_use:\n",
    "    engine, conn = connect_database()"
   ]
  },
  {
   "cell_type": "code",
   "execution_count": null,
   "metadata": {},
   "outputs": [],
   "source": [
    "company_colors = {\n",
    "    \"Alkyon Hydraulic Consultancy & Research\": \"green\",\n",
    "    \"Heijmans\": \"darkred\",\n",
    "    \"Koop Tjuchem\": \"lightgray\",\n",
    "    \"MNO Vervat\": \"orange\",\n",
    "    \"Seignette\": \"lightblue\",\n",
    "    \"Van Oord\": \"darkblue\",\n",
    "}\n",
    "\n",
    "company_logo = {\n",
    "    \"Alkyon Hydraulic Consultancy & Research\": \"Alkyon_Logo.png\",\n",
    "    \"Heijmans\": \"Heijmans_Logo.png\",\n",
    "    \"Koop Tjuchem\": \"koop_logo.png\",\n",
    "    \"MNO Vervat\": \"mno_vervat_logo.png\",\n",
    "    \"Seignette\": \"Heijmans_Logo.png\",\n",
    "    \"Van Oord\": \"RVOlogo.png\",\n",
    "}\n",
    "\n",
    "companies = list(company_colors.keys())"
   ]
  },
  {
   "cell_type": "code",
   "execution_count": null,
   "metadata": {},
   "outputs": [],
   "source": [
    "# read KML content\n",
    "kmz = zipfile.ZipFile(os.path.join(os.getcwd(), \"gis\", \"Werken.kmz\"), \"r\")  # extract zip file first, then read kmz file inside the extracted folder\n",
    "kml_content = kmz.open(\"doc.kml\", \"r\").read()  # kml content\n",
    "\n",
    "# create KML object\n",
    "k = kml.KML()\n",
    "k.from_string(kml_content)\n",
    "\n",
    "# read features from docs to folders to records and then extract geometries - in my case, Shapely points\n",
    "docs = list(k.features())\n",
    "folders = []\n",
    "for d in docs:\n",
    "    folders.extend(list(d.features()))\n",
    "\n",
    "records = []\n",
    "for f in folders:\n",
    "    records.extend(list(f.features()))\n",
    "\n",
    "geoms = [element.geometry for element in records]\n",
    "names = [element.name for element in records]\n",
    "descriptions = [element.description for element in records]"
   ]
  },
  {
   "cell_type": "code",
   "execution_count": null,
   "metadata": {},
   "outputs": [],
   "source": [
    "def remove_duplicates(x):\n",
    "    x = list(set(x.split(\", \")))\n",
    "    x = sorted(x)\n",
    "    x = \", \".join(x)\n",
    "    return x"
   ]
  },
  {
   "cell_type": "code",
   "execution_count": null,
   "metadata": {},
   "outputs": [],
   "source": [
    "werken = pd.read_excel(\n",
    "    os.path.join(os.getcwd(), \"csv\", \"werken.ods\"),\n",
    "    engine=\"odf\",\n",
    "    converters={\"date_start\": str, \"date_end\": str, \"project_number\": str, \"year\": str, \"Tools\": str, \"Type\": str},\n",
    ")\n",
    "werken.columns = map(str.lower, werken.columns)\n",
    "\n",
    "try:\n",
    "    werken[\"date_start\"] = pd.to_datetime(werken[\"date_start\"], format=\"ISO8601\", utc=False)\n",
    "    werken[\"date_end\"] = pd.to_datetime(werken[\"date_end\"], format=\"ISO8601\", utc=False)\n",
    "except:\n",
    "    werken[\"date_start\"] = pd.to_datetime(werken[\"date_start\"], format=\"%Y-%m-%d\", utc=False)\n",
    "    werken[\"date_end\"] = pd.to_datetime(werken[\"date_end\"], format=\"%Y-%m-%d\", utc=False)\n",
    "\n",
    "werken[\"id\"] = werken.index + 1\n",
    "\n",
    "werken[\"name\"] = werken[\"name\"].str.strip()\n",
    "\n",
    "werken[\"years\"] = werken.groupby([\"name\"])[\"year\"].transform(lambda x: \", \".join(x))\n",
    "werken[\"years\"] = werken[\"years\"].apply(lambda x: remove_duplicates(x))\n",
    "werken[\"year\"] = werken[\"year\"].astype(int)\n",
    "\n",
    "werken[\"Tools\"] = werken[\"tools\"].fillna(\"\").astype(str)\n",
    "werken[\"tools_all\"] = werken.groupby([\"name\"])[\"Tools\"].transform(lambda x: \", \".join(x))\n",
    "werken[\"tools_all\"] = werken[\"tools_all\"].apply(lambda x: remove_duplicates(x))\n",
    "\n",
    "werken.drop(columns=\"Tools\", inplace=True)\n",
    "\n",
    "werken[\"days_total\"] = werken.groupby([\"name\"])[\"days\"].transform(\"sum\").astype(int)"
   ]
  },
  {
   "cell_type": "code",
   "execution_count": null,
   "metadata": {},
   "outputs": [],
   "source": [
    "werken.head(50)"
   ]
  },
  {
   "cell_type": "code",
   "execution_count": null,
   "metadata": {},
   "outputs": [],
   "source": [
    "projects = werken.drop_duplicates(keep=\"first\", subset=[\"name\"])"
   ]
  },
  {
   "cell_type": "code",
   "execution_count": null,
   "metadata": {},
   "outputs": [],
   "source": [
    "df = gpd.read_file(os.path.join(os.getcwd(), \"gis\", \"project_locations.shp\"))\n",
    "df.columns = map(str.lower, df.columns)\n",
    "df.rename(\n",
    "    columns={\n",
    "        \"descript\": \"description\",\n",
    "    },\n",
    "    inplace=True,\n",
    ")\n",
    "df.drop(columns=[\"description\", \"icon\", \"elevation\"], inplace=True)\n",
    "df[\"latitude\"] = df.apply(lambda x: x[\"geometry\"].centroid.coords.xy[1][0], axis=1)\n",
    "df[\"longitude\"] = df.apply(lambda x: x[\"geometry\"].centroid.coords.xy[0][0], axis=1)\n",
    "\n",
    "df[\"company\"] = [x.rsplit(\" - \", 1)[-1] for x in df[\"name\"]]\n",
    "df[\"name\"] = [x.rsplit(\" - \", 1)[0] for x in df[\"name\"]]\n",
    "\n",
    "df[\"company_color\"] = df[\"company\"].map(company_colors)\n",
    "df[\"company_logo\"] = df[\"company\"].map(company_logo)\n",
    "\n",
    "geoms = [[point.xy[1][0], point.xy[0][0]] for point in df.geometry]"
   ]
  },
  {
   "cell_type": "code",
   "execution_count": null,
   "metadata": {},
   "outputs": [],
   "source": [
    "werken = werken.merge(df[[\"name\", \"latitude\", \"longitude\"]], how=\"left\", on=\"name\").reindex(\n",
    "    columns=[\n",
    "        \"id\",\n",
    "        \"name\",\n",
    "        \"project_number\",\n",
    "        \"company\",\n",
    "        \"year\",\n",
    "        \"date_start\",\n",
    "        \"date_end\",\n",
    "        \"days\",\n",
    "        \"city\",\n",
    "        \"country\",\n",
    "        \"vessels\",\n",
    "        \"latitude\",\n",
    "        \"longitude\",\n",
    "        \"description\",\n",
    "        \"type\",\n",
    "        \"tools\",\n",
    "    ]\n",
    ")\n",
    "\n",
    "if database_use:\n",
    "    werken.to_sql(\"projects\", conn, index=False, if_exists=\"replace\", index_label=\"id\")"
   ]
  },
  {
   "cell_type": "code",
   "execution_count": null,
   "metadata": {},
   "outputs": [],
   "source": [
    "markers = df.merge(\n",
    "    projects[[\"name\", \"years\", \"city\", \"country\", \"description\", \"vessels\", \"project_number\", \"type\", \"tools_all\", \"days_total\"]],\n",
    "    how=\"left\",\n",
    "    on=\"name\",\n",
    ")"
   ]
  },
  {
   "cell_type": "code",
   "execution_count": null,
   "metadata": {},
   "outputs": [],
   "source": [
    "markers.head(50)"
   ]
  },
  {
   "cell_type": "code",
   "execution_count": null,
   "metadata": {},
   "outputs": [],
   "source": [
    "if database_use:\n",
    "    sql = \"\"\"select * from home.house\"\"\"\n",
    "    house = pd.read_sql(sql, conn)\n",
    "else:\n",
    "    house = pd.read_pickle(\"house.pkl\")\n",
    "\n",
    "geometry = gpd.points_from_xy(house[\"longitude\"], house[\"latitude\"])\n",
    "geo_house = gpd.GeoDataFrame(house, geometry=geometry)\n",
    "geo_house_list = [[point.xy[1][0], point.xy[0][0]] for point in geo_house.geometry]"
   ]
  },
  {
   "cell_type": "code",
   "execution_count": null,
   "metadata": {},
   "outputs": [],
   "source": [
    "mapit = folium.Map(location=np.array(house.loc[house[\"location\"].isin([\"Boskoop\"]), [\"latitude\", \"longitude\"]])[0], tiles=None, zoom_start=9)\n",
    "\n",
    "folium.TileLayer(\"openstreetmap\", name=\"OpenStreet Map\").add_to(mapit)\n",
    "folium.TileLayer(\n",
    "    \"https://server.arcgisonline.com/ArcGIS/rest/services/NatGeo_World_Map/MapServer/tile/{z}/{y}/{x}\",\n",
    "    attr=\"Tiles &copy; Esri &mdash; National Geographic, Esri, DeLorme, NAVTEQ, UNEP-WCMC, USGS, NASA,\" \"ESA, METI, NRCAN, GEBCO, NOAA, iPC\",\n",
    "    name=\"Nat Geo Map\",\n",
    ").add_to(mapit)\n",
    "folium.TileLayer(\n",
    "    \"https://server.arcgisonline.com/arcgis/rest/services/World_Imagery/MapServer/tile/{z}/{y}/{x}\",\n",
    "    attr=\"Tiles &copy; Esri &mdash; National Geographic, Esri, DeLorme, NAVTEQ, UNEP-WCMC, USGS, NASA,\" \"ESA, METI, NRCAN, GEBCO, NOAA, iPC\",\n",
    "    name=\"World Imagery\",\n",
    ").add_to(mapit)\n",
    "\n",
    "legend_txt = '<span style=\"color: {col};\">{txt}</span>'\n",
    "\n",
    "legend = {}\n",
    "for cpy in companies:\n",
    "    legend[cpy] = folium.FeatureGroup(name=legend_txt.format(txt=cpy, col=company_colors[cpy])).add_to(mapit)\n",
    "\n",
    "for jj, coordinates in enumerate(geo_house_list):\n",
    "    mapit.add_child(folium.Marker(location=coordinates, tooltip=f'<b>{house[\"location\"][jj]}</b>', icon=folium.Icon(color=\"red\", icon=\"home\")))\n",
    "\n",
    "for jj, geom in enumerate(geoms):\n",
    "    html = popup_html(markers.iloc[jj, :])\n",
    "    iframe = branca.element.IFrame(html=html, width=510, height=280)\n",
    "    popup = folium.Popup(folium.Html(html, script=True), max_width=500)\n",
    "\n",
    "    fm = folium.Marker(\n",
    "        location=(markers[\"geometry\"][jj].y, markers[\"geometry\"][jj].x),\n",
    "        tooltip=markers[\"name\"][jj],\n",
    "        popup=popup,\n",
    "        icon=folium.Icon(color=markers[\"company_color\"][jj], icon=\"person-digging\", prefix=\"fa\"),\n",
    "    )\n",
    "\n",
    "    fm.add_to(legend[markers[\"company\"][jj]])\n",
    "\n",
    "mapit.add_child(folium.LayerControl(position=\"topright\", collapsed=True, autoZIndex=True))\n",
    "mapit.save(os.path.join(\"/home/wcn/GitHub/py-home\", \"projects.html\"))\n",
    "mapit"
   ]
  },
  {
   "cell_type": "code",
   "execution_count": null,
   "metadata": {},
   "outputs": [],
   "source": []
  }
 ],
 "metadata": {
  "kernelspec": {
   "display_name": "Python 3",
   "language": "python",
   "name": "python3"
  },
  "language_info": {
   "codemirror_mode": {
    "name": "ipython",
    "version": 3
   },
   "file_extension": ".py",
   "mimetype": "text/x-python",
   "name": "python",
   "nbconvert_exporter": "python",
   "pygments_lexer": "ipython3",
   "version": "3.11.4"
  }
 },
 "nbformat": 4,
 "nbformat_minor": 2
}

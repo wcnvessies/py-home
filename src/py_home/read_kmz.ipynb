{
 "cells": [
  {
   "cell_type": "code",
   "execution_count": null,
   "metadata": {},
   "outputs": [],
   "source": [
    "import os\n",
    "import zipfile\n",
    "\n",
    "import branca\n",
    "import folium\n",
    "import geopandas as gpd\n",
    "import numpy as np\n",
    "import pandas as pd\n",
    "from fastkml import kml\n",
    "from general_fun import *"
   ]
  },
  {
   "cell_type": "code",
   "execution_count": null,
   "metadata": {},
   "outputs": [],
   "source": [
    "engine, conn = connect_database()"
   ]
  },
  {
   "cell_type": "code",
   "execution_count": null,
   "metadata": {},
   "outputs": [],
   "source": [
    "# read KML content\n",
    "kmz = zipfile.ZipFile(os.path.join(os.getcwd(), \"gis\", \"Werken.kmz\"), \"r\")  # extract zip file first, then read kmz file inside the extracted folder\n",
    "kml_content = kmz.open(\"doc.kml\", \"r\").read()  # kml content\n",
    "\n",
    "# create KML object\n",
    "k = kml.KML()\n",
    "k.from_string(kml_content)\n",
    "\n",
    "# read features from docs to folders to records and then extract geometries - in my case, Shapely points\n",
    "docs = list(k.features())\n",
    "folders = []\n",
    "for d in docs:\n",
    "    folders.extend(list(d.features()))\n",
    "\n",
    "records = []\n",
    "for f in folders:\n",
    "    records.extend(list(f.features()))\n",
    "\n",
    "geoms = [element.geometry for element in records]\n",
    "names = [element.name for element in records]\n",
    "descriptions = [element.description for element in records]"
   ]
  },
  {
   "cell_type": "code",
   "execution_count": null,
   "metadata": {},
   "outputs": [],
   "source": [
    "werken = pd.read_excel(\n",
    "    os.path.join(os.getcwd(), \"gis\", \"werken.ods\"), engine=\"odf\", converters={\"date_start\": str, \"date_end\": str, \"project_number\": str}\n",
    ")\n",
    "\n",
    "werken[\"date_start\"] = pd.to_datetime(werken[\"date_start\"], format=\"ISO8601\", utc=False)\n",
    "werken[\"date_end\"] = pd.to_datetime(werken[\"date_end\"], format=\"ISO8601\", utc=False)\n",
    "\n",
    "werken[\"id\"] = werken.index + 1"
   ]
  },
  {
   "cell_type": "code",
   "execution_count": null,
   "metadata": {},
   "outputs": [],
   "source": [
    "projects = werken.drop_duplicates(keep=\"first\", subset=[\"name\"])"
   ]
  },
  {
   "cell_type": "code",
   "execution_count": null,
   "metadata": {},
   "outputs": [],
   "source": [
    "df = gpd.read_file(os.path.join(os.getcwd(), \"gis\", \"Werken.shp\"))\n",
    "df.columns = map(str.lower, df.columns)\n",
    "df.rename(\n",
    "    columns={\n",
    "        \"descript\": \"description\",\n",
    "    },\n",
    "    inplace=True,\n",
    ")\n",
    "df.drop(columns=[\"description\", \"icon\", \"elevation\"], inplace=True)\n",
    "df[\"latitude\"] = df.apply(lambda x: x[\"geometry\"].centroid.coords.xy[1][0], axis=1)\n",
    "df[\"longitude\"] = df.apply(lambda x: x[\"geometry\"].centroid.coords.xy[0][0], axis=1)\n",
    "\n",
    "df[\"company\"] = [x.rsplit(\" - \", 1)[-1] for x in df[\"name\"]]\n",
    "df[\"name\"] = [x.rsplit(\" - \", 1)[0] for x in df[\"name\"]]\n",
    "\n",
    "company_colors = {\n",
    "    \"Alkyon Hydraulic Consultancy & Research\": \"green\",\n",
    "    \"Heijmans\": \"darkred\",\n",
    "    \"Koop Tjuchem\": \"lightgray\",\n",
    "    \"MNO Vervat\": \"orange\",\n",
    "    \"Seignette\": \"lightblue\",\n",
    "    \"Van Oord\": \"darkblue\",\n",
    "}\n",
    "\n",
    "df[\"company_color\"] = df[\"company\"].map(company_colors)\n",
    "\n",
    "geoms = [[point.xy[1][0], point.xy[0][0]] for point in df.geometry]"
   ]
  },
  {
   "cell_type": "code",
   "execution_count": null,
   "metadata": {},
   "outputs": [],
   "source": [
    "werken = werken.merge(df[[\"name\", \"latitude\", \"longitude\"]], how=\"left\", on=\"name\").reindex(\n",
    "    columns=[\n",
    "        \"id\",\n",
    "        \"name\",\n",
    "        \"project_number\",\n",
    "        \"company\",\n",
    "        \"year\",\n",
    "        \"date_start\",\n",
    "        \"date_end\",\n",
    "        \"days\",\n",
    "        \"city\",\n",
    "        \"country\",\n",
    "        \"vessels\",\n",
    "        \"latitude\",\n",
    "        \"longitude\",\n",
    "        \"description\",\n",
    "    ]\n",
    ")\n",
    "werken.to_sql(\"projects\", conn, index=False, if_exists=\"replace\", index_label=\"id\")"
   ]
  },
  {
   "cell_type": "code",
   "execution_count": null,
   "metadata": {},
   "outputs": [],
   "source": [
    "markers = df.merge(projects[[\"name\", \"year\", \"city\", \"country\", \"description\", \"vessels\", \"project_number\"]], how=\"left\", on=\"name\")"
   ]
  },
  {
   "cell_type": "code",
   "execution_count": null,
   "metadata": {},
   "outputs": [],
   "source": [
    "sql = \"\"\"select * from home.house\"\"\"\n",
    "house = pd.read_sql(sql, conn)\n",
    "\n",
    "# house = pd.read_pickle(\"house.pkl\")\n",
    "geometry = gpd.points_from_xy(house[\"longitude\"], house[\"latitude\"])\n",
    "geo_house = gpd.GeoDataFrame(house, geometry=geometry)\n",
    "geo_house_list = [[point.xy[1][0], point.xy[0][0]] for point in geo_house.geometry]"
   ]
  },
  {
   "cell_type": "code",
   "execution_count": null,
   "metadata": {},
   "outputs": [],
   "source": [
    "mapit = folium.Map(\n",
    "    location=np.array(house.loc[house[\"location\"].isin([\"Boskoop\"]), [\"latitude\", \"longitude\"]])[0], tiles=\"OpenStreetMap\", zoom_start=9\n",
    ")\n",
    "\n",
    "for jj, coordinates in enumerate(geo_house_list):\n",
    "    mapit.add_child(folium.Marker(location=coordinates, popup=house[\"location\"][jj], icon=folium.Icon(color=\"red\", icon=\"home\")))\n",
    "\n",
    "for jj, geom in enumerate(geoms):\n",
    "    html = popup_html(markers.iloc[jj, :])\n",
    "    iframe = branca.element.IFrame(html=html, width=510, height=280)\n",
    "    popup = folium.Popup(folium.Html(html, script=True), max_width=500)\n",
    "\n",
    "    mapit.add_child(\n",
    "        folium.Marker(\n",
    "            location=(df[\"geometry\"][jj].y, df[\"geometry\"][jj].x),\n",
    "            popup=popup,\n",
    "            icon=folium.Icon(color=df[\"company_color\"][jj], icon=\"person-digging\", prefix=\"fa\"),\n",
    "        )\n",
    "    )\n",
    "\n",
    "\n",
    "mapit.save(os.path.join(os.getcwd(), \"html\", \"projects.html\"))\n",
    "mapit"
   ]
  }
 ],
 "metadata": {
  "kernelspec": {
   "display_name": "Python 3",
   "language": "python",
   "name": "python3"
  },
  "language_info": {
   "codemirror_mode": {
    "name": "ipython",
    "version": 3
   },
   "file_extension": ".py",
   "mimetype": "text/x-python",
   "name": "python",
   "nbconvert_exporter": "python",
   "pygments_lexer": "ipython3",
   "version": "3.11.4"
  }
 },
 "nbformat": 4,
 "nbformat_minor": 2
}

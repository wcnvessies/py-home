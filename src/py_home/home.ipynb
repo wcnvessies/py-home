{
 "cells": [
  {
   "cell_type": "code",
   "execution_count": null,
   "metadata": {},
   "outputs": [],
   "source": [
    "import folium\n",
    "import geopandas as gpd\n",
    "import pandas as pd\n",
    "import numpy as np\n",
    "from geopy.extra.rate_limiter import RateLimiter\n",
    "from geopy.geocoders import Nominatim\n",
    "from uuid import uuid4\n",
    "from general_fun import *"
   ]
  },
  {
   "cell_type": "code",
   "execution_count": null,
   "metadata": {},
   "outputs": [],
   "source": [
    "engine, conn = connect_database()"
   ]
  },
  {
   "cell_type": "code",
   "execution_count": null,
   "metadata": {},
   "outputs": [],
   "source": [
    "# Creating a dataframe with address of locations we want to reterive\n",
    "locat = [\"Genieweg 38, 1566NM Assendelft\",\"Macuarima 131a, Santa Cruz, Aruba\", \"Lindberghlaan 122, 2497EC Den Haag\",\"Merelplein 4, 2771SB Boskoop\"]\n",
    "df = pd.DataFrame({'add': locat})\n",
    " \n",
    "# Creating an instance of Nominatim Class\n",
    "geolocator = Nominatim(user_agent=\"my_request\")\n",
    " \n",
    "# applying the rate limiter wrapper\n",
    "geocode = RateLimiter(geolocator.geocode, min_delay_seconds=1)\n",
    " \n",
    "# Applying the method to pandas DataFrame\n",
    "df['location'] = df['add'].apply(geocode)\n",
    "df['Lat'] = df['location'].apply(lambda x: x.latitude if x else None)\n",
    "df['Lon'] = df['location'].apply(lambda x: x.longitude if x else None)"
   ]
  },
  {
   "cell_type": "code",
   "execution_count": null,
   "metadata": {},
   "outputs": [],
   "source": [
    "geometry = gpd.points_from_xy(df[\"Lon\"], df[\"Lat\"])\n",
    "geo_df = gpd.GeoDataFrame(df[[\"add\", \"location\", \"Lat\", \"Lon\"]], geometry=geometry)\n",
    "geo_df_list = [[point.xy[1][0], point.xy[0][0]] for point in geo_df.geometry]\n",
    "geo_df.head()"
   ]
  },
  {
   "cell_type": "code",
   "execution_count": null,
   "metadata": {},
   "outputs": [],
   "source": [
    "locations = []\n",
    "for coordinates in geo_df_list:\n",
    "    address = geolocator.reverse(f\"{coordinates[0]}, {coordinates[1]}\").raw['address']\n",
    "    address[\"latitude\"] = coordinates[0]\n",
    "    address[\"longitude\"] = coordinates[1]\n",
    "    locations.append(address)"
   ]
  },
  {
   "cell_type": "code",
   "execution_count": null,
   "metadata": {},
   "outputs": [],
   "source": [
    "df = pd.DataFrame(locations)\n",
    "\n",
    "df[\"street\"] = df[\"road\"]+ \" \" + df[\"house_number\"]\n",
    "df['location'] = df[['village', 'town', 'city']].stack().groupby(level=0).agg('_'.join)\n",
    "df['ISO3166-2'] = df[['ISO3166-2-lvl4', 'ISO3166-2-lvl3']].stack().groupby(level=0).agg('_'.join)\n",
    "df[\"id\"] = df.index + 1"
   ]
  },
  {
   "cell_type": "code",
   "execution_count": null,
   "metadata": {},
   "outputs": [],
   "source": [
    "house = pd.DataFrame(data=None, columns=[\"id\", \"location\", \"street\", \"postcode\", 'municipality', \"state\", \"country\", \"ISO3166-2\", \"latitude\", \"longitude\"])\n",
    "\n",
    "for col in house.columns:\n",
    "    house[col] = df[col]\n",
    "\n",
    "house[\"date_from\"] = [\"1985-02-17\", \"2007-02-03\", \"2009-03-01\", \"2017-04-19\"]\n",
    "house[\"date_until\"] = [\"2009-03-01\", \"2007-08-22\", \"2017-07-01\", None]\n",
    "\n",
    "house[\"date_from\"] = pd.to_datetime(house[\"date_from\"], format='%Y-%m-%d', utc=False)\n",
    "house[\"date_until\"] = pd.to_datetime(house[\"date_until\"], format='%Y-%m-%d', utc=False)"
   ]
  },
  {
   "cell_type": "code",
   "execution_count": null,
   "metadata": {},
   "outputs": [],
   "source": [
    "house.to_sql('house', conn, index=False, if_exists='replace', index_label=\"id\")\n",
    "house.to_pickle(\"house.pkl\")"
   ]
  },
  {
   "cell_type": "code",
   "execution_count": null,
   "metadata": {},
   "outputs": [],
   "source": [
    "Map = folium.Map(location=np.array(house.loc[house[\"location\"].isin([\"Boskoop\"]), [\"latitude\", \"longitude\"]])[0], tiles=\"OpenStreetMap\", zoom_start=15)\n",
    "\n",
    "for jj, oordinates in enumerate(geo_df_list):\n",
    "    Map.add_child(folium.Marker(location=coordinates, popup=locations[jj], icon=folium.Icon(color='red', icon='home')))\n",
    "\n",
    "Map"
   ]
  }
 ],
 "metadata": {
  "kernelspec": {
   "display_name": "base",
   "language": "python",
   "name": "python3"
  },
  "language_info": {
   "codemirror_mode": {
    "name": "ipython",
    "version": 3
   },
   "file_extension": ".py",
   "mimetype": "text/x-python",
   "name": "python",
   "nbconvert_exporter": "python",
   "pygments_lexer": "ipython3",
   "version": "3.11.4"
  }
 },
 "nbformat": 4,
 "nbformat_minor": 2
}

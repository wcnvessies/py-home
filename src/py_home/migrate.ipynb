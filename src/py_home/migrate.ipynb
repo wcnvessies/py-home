{
 "cells": [
  {
   "cell_type": "code",
   "execution_count": 1,
   "metadata": {},
   "outputs": [],
   "source": [
    "import os\n",
    "from datetime import datetime\n",
    "from uuid import uuid4\n",
    "\n",
    "import numpy as np\n",
    "import pandas as pd\n",
    "from general_fun import (\n",
    "    connect_database,\n",
    "    connect_database_psql,\n",
    "    date_diff_in_seconds,\n",
    "    dhms_from_seconds,\n",
    ")\n",
    "\n",
    "T0 = datetime.now()"
   ]
  },
  {
   "cell_type": "code",
   "execution_count": 2,
   "metadata": {},
   "outputs": [],
   "source": [
    "engine_psql, conn_psql = connect_database_psql()"
   ]
  },
  {
   "cell_type": "code",
   "execution_count": null,
   "metadata": {},
   "outputs": [],
   "source": [
    "# Energy\n",
    "dbname = \"energy\"\n",
    "\n",
    "tb = {0: \"energy\", 1: \"water\"}\n",
    "\n",
    "engine, conn = connect_database(dbname)\n",
    "\n",
    "for key, value in tb.items():\n",
    "    sql = f\"\"\"select * from {dbname}.{value}\"\"\"\n",
    "\n",
    "    df = pd.read_sql(sql, conn)\n",
    "    if \"id\" in df.columns:\n",
    "        df[\"id\"] = [uuid4() for _ in range(len(df.index))]\n",
    "    else:\n",
    "        df.insert(0, \"id\", [uuid4() for _ in range(len(df.index))])\n",
    "\n",
    "    df.to_sql(value, conn_psql, index=False, if_exists=\"replace\", index_label=\"id\")"
   ]
  },
  {
   "cell_type": "code",
   "execution_count": 3,
   "metadata": {},
   "outputs": [],
   "source": [
    "# Home\n",
    "dbname = \"home\"\n",
    "\n",
    "tb = {0: \"cars\", 1: \"house\", 2: \"projects\"}\n",
    "\n",
    "engine, conn = connect_database(dbname)\n",
    "\n",
    "for key, value in tb.items():\n",
    "    sql = f\"\"\"select * from {dbname}.{value}\"\"\"\n",
    "\n",
    "    df = pd.read_sql(sql, conn)\n",
    "    if \"id\" in df.columns:\n",
    "        df[\"id\"] = [uuid4() for _ in range(len(df.index))]\n",
    "    else:\n",
    "        df.insert(0, \"id\", [uuid4() for _ in range(len(df.index))])\n",
    "\n",
    "    df.to_sql(value, conn_psql, index=False, if_exists=\"replace\", index_label=\"id\")"
   ]
  },
  {
   "cell_type": "code",
   "execution_count": null,
   "metadata": {},
   "outputs": [],
   "source": [
    "# Finance\n",
    "dbname = \"finance\"\n",
    "\n",
    "tb = {\n",
    "    0: \"LEGO_expenses\",\n",
    "    3: \"days\",\n",
    "    8: \"taxes\",\n",
    "    9: \"vanoord_actual\",\n",
    "    10: \"vanoord_contract\",\n",
    "    11: \"vanoord_country\",\n",
    "}\n",
    "\n",
    "engine, conn = connect_database(dbname)\n",
    "\n",
    "for key, value in tb.items():\n",
    "    sql = f\"\"\"select * from {dbname}.{value}\"\"\"\n",
    "\n",
    "    df = pd.read_sql(sql, conn)\n",
    "    if \"id\" in df.columns:\n",
    "        df[\"id\"] = [uuid4() for _ in range(len(df.index))]\n",
    "    else:\n",
    "        df.insert(0, \"id\", [uuid4() for _ in range(len(df.index))])\n",
    "\n",
    "    df.to_sql(value, conn_psql, index=False, if_exists=\"replace\", index_label=\"id\")"
   ]
  },
  {
   "cell_type": "code",
   "execution_count": null,
   "metadata": {},
   "outputs": [],
   "source": [
    "tb = {\n",
    "    4: \"finance\",\n",
    "    5: \"historical\",\n",
    "}\n",
    "\n",
    "cat = pd.read_sql(f\"\"\"select * from {dbname}.category\"\"\", conn)\n",
    "cat[\"category\"] = cat[\"id\"]\n",
    "cat[\"id\"] = [uuid4() for _ in range(len(cat.index))]\n",
    "cat.to_sql(\"category\", conn_psql, index=False, if_exists=\"replace\", index_label=\"id\")\n",
    "\n",
    "keys = cat[\"category\"].values.tolist()\n",
    "values = cat[\"id\"].values.tolist()\n",
    "category_mapping = {keys[jj]: values[jj] for jj in range(len(keys))}\n",
    "\n",
    "for key, value in tb.items():\n",
    "    sql = f\"\"\"select * from {dbname}.{value}\"\"\"\n",
    "\n",
    "    df = pd.read_sql(sql, conn)\n",
    "    if \"id\" in df.columns:\n",
    "        df[\"id\"] = [uuid4() for _ in range(len(df.index))]\n",
    "    else:\n",
    "        df.insert(0, \"id\", [uuid4() for _ in range(len(df.index))])\n",
    "\n",
    "    df[\"category\"] = df[\"category\"].map(category_mapping)\n",
    "\n",
    "    df.to_sql(value, conn_psql, index=False, if_exists=\"replace\", index_label=\"id\")"
   ]
  },
  {
   "cell_type": "code",
   "execution_count": null,
   "metadata": {},
   "outputs": [],
   "source": [
    "dbname = \"finance\"\n",
    "tb = {\n",
    "    1: \"bankacount\",\n",
    "    6: \"mortgage\",\n",
    "    12: \"woz\",\n",
    "}\n",
    "\n",
    "engine, conn = connect_database(dbname)\n",
    "\n",
    "for value in tb.values():\n",
    "    sql = f\"\"\"select * from {dbname}.{value}\"\"\"\n",
    "\n",
    "    df = pd.read_sql(sql, conn)\n",
    "\n",
    "    df.insert(0, \"id\", [uuid4() for _ in range(len(df.index))])\n",
    "\n",
    "    df[\"date\"] = pd.to_datetime(df[\"date\"], format=\"ISO8601\")\n",
    "\n",
    "    df.to_sql(value, conn_psql, index=False, if_exists=\"replace\", index_label=\"id\")"
   ]
  },
  {
   "cell_type": "code",
   "execution_count": null,
   "metadata": {},
   "outputs": [],
   "source": [
    "print(\"%d days, %d hours, %d minutes, %d seconds\" % dhms_from_seconds(date_diff_in_seconds(datetime.now(), T0)))"
   ]
  }
 ],
 "metadata": {
  "kernelspec": {
   "display_name": "base",
   "language": "python",
   "name": "python3"
  },
  "language_info": {
   "codemirror_mode": {
    "name": "ipython",
    "version": 3
   },
   "file_extension": ".py",
   "mimetype": "text/x-python",
   "name": "python",
   "nbconvert_exporter": "python",
   "pygments_lexer": "ipython3",
   "version": "3.11.4"
  }
 },
 "nbformat": 4,
 "nbformat_minor": 2
}
